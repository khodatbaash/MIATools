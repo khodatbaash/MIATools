{
 "cells": [
  {
   "cell_type": "code",
   "execution_count": null,
   "id": "floral-bulletin",
   "metadata": {},
   "outputs": [],
   "source": [
    "###Author: Saeed Arbabi 12/1/2019\n",
    "### this code aims to give me an overview of all the DICOM files I have in a folder and it's subfolders organized in a CSV file\n",
    "#pass your main DICOM data folder in the DATA_DIR and let it go\n",
    "\n",
    "import glob, os, sys\n",
    "import SimpleITK as sitk\n",
    "import numpy as np\n",
    "\n",
    "DATA_DIR = \"D:/TOFA/data_base/sarbabi-20210319_105957\" #sys.argv[1]"
   ]
  },
  {
   "cell_type": "code",
   "execution_count": null,
   "id": "threaded-henry",
   "metadata": {
    "scrolled": true
   },
   "outputs": [],
   "source": [
    "###step1: find all the dicom series in the data directory and subdirectories\n",
    "print(f\"folders containing DICOM images in folder: {DATA_DIR}\")\n",
    "dicom_folders = {}\n",
    "for root, dirs, files in os.walk(DATA_DIR):\n",
    "    for file in files:\n",
    "        if file.endswith(\".dcm\"):\n",
    "            if(root not in dicom_folders):\n",
    "                print(root)\n",
    "                dicom_folders[root]=1\n",
    "            else:\n",
    "                dicom_folders[root]+=1"
   ]
  },
  {
   "cell_type": "code",
   "execution_count": null,
   "id": "divine-module",
   "metadata": {},
   "outputs": [],
   "source": [
    "###step2: read each dicom serie and extract info about it from dicom tags\n",
    "tags_to_copy = [\"0010|0010\",  # Patient Name\n",
    "                \"0008|0020\",  # Study Date\n",
    "                \"0008|0030\",  # Study Time\n",
    "                #\"0008|0050\",  # Accession Number\n",
    "                \"0008|0060\",  # Modality\n",
    "                \"0018|0015\",  # Body Part Examined\n",
    "                \"0008|103e\",   # Series Description\n",
    "                \"0018|0050\", # Slice Thickness\n",
    "                \"0028|0030\" # Pixel Spacing\n",
    "                ]\n",
    "data_array = np.empty((0, 10), str)\n",
    "data_array = np.append(data_array, np.array([[\"patientId\", \"studyDate\", \"studyTime\", \"modality\", \"bodyPart\", \"description/sequence\", \"sliceThickness\", \"pixelSpacing\", \"numSlices\", \"dicomFolder\"]]), axis=0)\n",
    "\n",
    "for dicom_folder, num_slices in dicom_folders.items():\n",
    "    reader = sitk.ImageFileReader()\n",
    "\n",
    "    print(glob.glob(f\"{dicom_folder}/*.dcm\")[0])\n",
    "    reader.SetFileName(glob.glob(f\"{dicom_folder}/*.dcm\")[0])\n",
    "    reader.LoadPrivateTagsOn();\n",
    "\n",
    "    try:\n",
    "        reader.ReadImageInformation();\n",
    "    except:\n",
    "        continue\n",
    "\n",
    "    existing_keys = reader.GetMetaDataKeys()\n",
    "    tags_array = np.empty(0, str)\n",
    "    skip = False\n",
    "    for k in tags_to_copy:\n",
    "        if(k in existing_keys):\n",
    "            v = reader.GetMetaData(k)\n",
    "        else: v=\"-\"\n",
    "        #remove survey files from inventory\n",
    "        if \"SURVEY\" in v:\n",
    "            skip=True\n",
    "            continue\n",
    "        tags_array = np.append(tags_array, v)\n",
    "    if skip is True: continue\n",
    "    tags_array = np.append(tags_array, num_slices)\n",
    "    tags_array = np.append(tags_array, dicom_folder)\n",
    "\n",
    "    data_array = np.append(data_array, np.array([tags_array]), axis=0)\n"
   ]
  },
  {
   "cell_type": "code",
   "execution_count": null,
   "id": "located-olympus",
   "metadata": {},
   "outputs": [],
   "source": [
    "###step3: save inventory in CSV file\n",
    "np.savetxt(f\"{DATA_DIR if DATA_DIR.endswith('/') else DATA_DIR+'/' }data_inventory.csv\", data_array, delimiter=',', fmt='%s')\n",
    "print(\"Done writing to csv file!\")"
   ]
  },
  {
   "cell_type": "code",
   "execution_count": null,
   "id": "independent-license",
   "metadata": {},
   "outputs": [],
   "source": []
  }
 ],
 "metadata": {
  "kernelspec": {
   "display_name": "Python 3",
   "language": "python",
   "name": "python3"
  },
  "language_info": {
   "codemirror_mode": {
    "name": "ipython",
    "version": 3
   },
   "file_extension": ".py",
   "mimetype": "text/x-python",
   "name": "python",
   "nbconvert_exporter": "python",
   "pygments_lexer": "ipython3",
   "version": "3.9.0"
  }
 },
 "nbformat": 4,
 "nbformat_minor": 5
}
