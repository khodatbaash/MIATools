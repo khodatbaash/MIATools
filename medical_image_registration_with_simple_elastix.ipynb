{
 "cells": [
  {
   "cell_type": "markdown",
   "id": "expected-parks",
   "metadata": {},
   "source": [
    "## 1- introduction\n",
    "* image registration: process of **transforming images into a common coordinate system** so **corresponding pixels represent homologous biological points**\n",
    "* **Elastix**: open source **command-line program** for **intensity-based registration** of medical images, allows quickly configure, test and compare different registration methods\n",
    "* **SimpleElastix**: an **extension of SimpleITK**, allows configuring and **running Elastix entirely in Python** and some other languages\n",
    "* with SimpleElastix it's made easier and more memory and disk I/O efficient than Elastix"
   ]
  },
  {
   "cell_type": "markdown",
   "id": "american-momentum",
   "metadata": {},
   "source": [
    "* image registration involves two images: fixed and moving\n",
    "* transform: the spatial mapping of points from the fixed to points in moving (correspondence establishment)\n",
    "* similarity metric: measure of how well fixed and moving image match\n",
    "* optimizer: optimizes similarity metric over search space\n",
    "* serach space: parameters of transform\n",
    "\n",
    "\n",
    "* optimizer adjusts the parameters of transform in a way that minimizes the difference between the two images in terms of similarity metric\n",
    "* so we just need to specify the metric we want to optimize\n",
    "* when we want smooth deformations, we use regularization to penalize sharp transformation\n",
    "* when we start with a high level of smoothing, and gradually sharpen the image, we use a multi-resolution approach"
   ]
  },
  {
   "cell_type": "markdown",
   "id": "bridal-realtor",
   "metadata": {},
   "source": [
    "### registration components\n",
    "#### image pyramids\n",
    "* a multi-resolution pyramid strategy improves the capture range and robustness of registration\n",
    "* three types of pyramid: SmoothingImagePyramid, RecursiveImagePyramid, ShrinkingImagePyramid\n",
    "* **SmoothingImagePyramid** smoothes the image with Gaussian kernel at different scales\n",
    "* **RecursiveImagePyramid** smoothes and downsamples the image\n",
    "* **ShrinkingImagePyramid** merely downsamples the image\n",
    "\n",
    "\n",
    "* parameters to set for multi-resolution strategy: **NumberOfResolutions** (in general 3 resolutions will be sufficient. if fixed and moving images are far away we migh want to increase it to 5 or 6, this way pays more attention to register large, dominant structures in the beginning) and **ImagePyramidSchedule**(defines amount of blurring and downsampling in each direction and for each resolution level) (if data is highly anisotropic, you might want to blur less in the direction of largest spacing).\n",
    "\n",
    "example:\n",
    "<br>(NumberOfResolutions 4)\n",
    "<br>(FixedImagePyramidSchedule 8 8 8 4 4 4 2 2 2 1 1 1)\n",
    "\n",
    "means that at resolution level 1, voxels are blurred with 4/2 voxels in each direction. (sigma is half pyramid schedule value)"
   ]
  },
  {
   "cell_type": "markdown",
   "id": "formal-television",
   "metadata": {},
   "source": [
    "#### masks\n",
    "* if more interested in aligning substructures than glonal anatomy\n",
    "* if you need an irregular region of interest (ROI), you can use masks\n",
    "* when to use masks:\n",
    "  * image contains artificial edges with no real meaning. the registration tries to align those and neglect the meaningful edges\n",
    "  * image contains structures in the neighborhood of your ROI that may influence the registration within ROI\n",
    "* only a fixed image mask is sufficient to focus the registrtion on the ROI, you only want to use mask for moving image, when the moving image contains highly perturbed grey levels near the ROI\n",
    "* if using multi-resolution registration, set (ErodeMask \"true\"), since you do not want information from the artificial edge to flow into your ROI during smoothing step, (if the edges around the ROI are meaningful, set it to false), becuase edge will help to guide the registration"
   ]
  },
  {
   "cell_type": "markdown",
   "id": "democratic-teaching",
   "metadata": {},
   "source": [
    "#### transforms\n",
    "* constrains the solution space to that type of deformation (example: intra-subject applications: may be sufficient to consider only rigid transformation) (example2: a cross-sectional study demands more flexible transformation models to allow normal anatomical variabilities between patients)\n",
    "* number of parameters correspond to the degree of freedom (DOF)\n",
    "* DOF is equal to the dimensionality of the search space\n",
    "* often good idea to start simple transforms and gradually increase complexity\n",
    "* some common transforms: \n",
    "  * translation\n",
    "  * rigid (rotation, translation)\n",
    "  * Euler (rotaiton, translation)\n",
    "  * affine (rotation, translation, scaling, shearing)\n",
    "  * bspline (non-rigid)\n",
    "  * Spline-Kernel transform (non-rigid)\n",
    "  * weighted combination of any of these\n",
    "* transform is from fixed image to moving image. this allows us to iterate over the fixed image and pick a pixel from the moving image for every pixel in the fixed image"
   ]
  },
  {
   "cell_type": "markdown",
   "id": "helpful-toilet",
   "metadata": {},
   "source": [
    "#### metric\n",
    "* similarity metric: measures degree of similarity between moving and fixed\n",
    "* metric samples intensity values from fixed and transformed moving and evaluates the fitness value and derivatives (to pass to optimizer)\n",
    "* some metrics can not handle inter-modality comparisons. some metrics have large capture range while others require initialization close to the optimil position\n",
    "* you might require trial and error to find the best metric for a given problem\n",
    "* **Mean Squared Difference (SSD)** pixel-wise intensity differences between two images squared mean. (good for the images with the same intensity distribution, like the same modality)\n",
    "* **Normalized Correlation Coefficient (NCC)** pixel-wise cross-correlation normalized by the square root of the autocorrelation of the images. it's invariant to linear differences between intensity distributions. well for intra-modal CT registration.\n",
    "* **Mutual Information (MI)** well-suited for multi-modal image pairs as well as mono-modal. sometimes better performance with normalized MI.\n",
    "* **Mattes Mutual Information** samples te same pixels in every iteration.\n",
    "* **Kappa Similarity Meric** measures the overlap of the segmented structures, specifically to register segmentations. (but usually better to conver a binary image to a distance map and apply one of the usual metrics."
   ]
  },
  {
   "cell_type": "markdown",
   "id": "desirable-specific",
   "metadata": {},
   "source": [
    "#### optimizers\n",
    "* estimates the optimal transform parameters in iterative fashion\n",
    "* Gradient Deccent (GD), Robbins-Mobroe (RM), **Adaptive stochastic gradient descent(ASGD)**, conjugate gradient (CG), Quasi-Newton, simultaneous pertubation (SP)"
   ]
  },
  {
   "cell_type": "markdown",
   "id": "loose-intro",
   "metadata": {},
   "source": [
    "#### samplers\n",
    "* samples some points for the metric to evaluate only a subset of randomly sampled voxels\n",
    "* using ImageSampler parameter (grid, random, random coordinate, full sampling)"
   ]
  },
  {
   "cell_type": "markdown",
   "id": "sporting-empty",
   "metadata": {},
   "source": [
    "#### interpolators\n",
    "* is required to evaluate the image intensity at the mapped off-grid position\n",
    "* NearestNeighborINterpolator: value of the spatially closest voxel. good for binary images\n",
    "* LinearInterpolator: weighted average of surrounding voxels. (best time performance with this together with random coordinate sampler during optimization)\n",
    "* BSplineInterpolatro: using b-spline approximations of user-defined order N. 1st order bspline correspond to linear interpolation. FinalBSplineInterpolatorFloat"
   ]
  },
  {
   "cell_type": "markdown",
   "id": "final-latvia",
   "metadata": {},
   "source": [
    "#### images\n",
    "* geometrical concepts associated with ITK images: ![Alt](images/se_001.JPG \"Title\")\n",
    "* pixels represent the center of pixels"
   ]
  },
  {
   "cell_type": "markdown",
   "id": "surprising-drove",
   "metadata": {},
   "source": [
    "## 2- Hello World\n",
    "* example ellustrating how to use SimpleElastix\n",
    "* keeping it simple for now: a single function call we can specify fixed, moving image and type of registration. SimpleElatix then registers our images using sensible default parameters"
   ]
  },
  {
   "cell_type": "markdown",
   "id": "fiscal-volleyball",
   "metadata": {},
   "source": [
    "### Registration With Translation Transform\n",
    "consider these two brain MRIs.\n",
    "![Alt](images/se_002.JPG \"Title\")\n",
    "We identify objects are related by a simple spatial shift so a translation transform should suffice to align them (correct misalignment)"
   ]
  },
  {
   "cell_type": "markdown",
   "id": "knowing-disney",
   "metadata": {},
   "source": [
    "#### procedural interface\n",
    "* short-hand notation (procedural or functional interface)\n",
    "* less flexible than the object-oriented interface\n",
    "* very simple to use"
   ]
  },
  {
   "cell_type": "code",
   "execution_count": null,
   "id": "secondary-making",
   "metadata": {},
   "outputs": [],
   "source": [
    "# procedural interface\n",
    "import SimpleITK as sitk\n",
    "\n",
    "resultImage = sitk.Elastix(sitk.ReadImage(\"fixedImage.nii\"), sitk.ReadImage(\"movingImage.nii\"), \"translation\")\n"
   ]
  },
  {
   "cell_type": "markdown",
   "id": "fabulous-treat",
   "metadata": {},
   "source": [
    "#### object-oriented interface\n",
    "* code is more flexible but less simple\n",
    "  * for example the final deformation field can be retrieved\n",
    "  (like warping other images with the same transformation)\n",
    "  * image quality is reduced from resampling twice the resulting image\n",
    "* suitable for more advanced use cases and scripting purposes\n",
    "* more verbose, but a lot more powerful"
   ]
  },
  {
   "cell_type": "code",
   "execution_count": null,
   "id": "combined-viewer",
   "metadata": {},
   "outputs": [],
   "source": [
    "import SimpleITK as sitk\n",
    "\n",
    "fixedImage = sitk.ReadImage('fixedImage.nii')\n",
    "movingImage = sitk.ReadImage('movingImage.nii')\n",
    "parameterMap = sitk.GetDefaultParameterMap('translation')\n",
    "\n",
    "elastixImageFilter = sitk.ElastixImageFilter()\n",
    "elastixImageFilter.SetFixedImage(fixedImage)\n",
    "elastixImageFilter.SetMovingImage(movingImage)\n",
    "elastixImageFilter.SetParameterMap(parameterMap)\n",
    "elastixImageFilter.Execute()\n",
    "\n",
    "resultImage = elastixImageFilter.GetResultImage()\n",
    "transformParameterMap = elastixImageFilter.GetTransformParameterMap()"
   ]
  },
  {
   "cell_type": "markdown",
   "id": "finite-communications",
   "metadata": {},
   "source": [
    "* we can now transform an entire population of images (e.g. binary label images for segmentation of different brain regions) using the same parameter map and a single instance of transformix"
   ]
  },
  {
   "cell_type": "code",
   "execution_count": null,
   "id": "numerical-transition",
   "metadata": {},
   "outputs": [],
   "source": [
    "transformixImageFilter = sitk.TransformixImageFilter()\n",
    "transformixImageFilter.SetTransformParameterMap(transformParameterMap)\n",
    "\n",
    "population = ['image1.hdr', 'image2.hdr', ..., 'imageN.hdr']\n",
    "\n",
    "for filename in population:\n",
    "    transformixImageFilter.SetMovingImage(sitk.ReadImage(filename))\n",
    "    transformixImageFilter.Execute()\n",
    "    sitk.WriteImage(transformixImageFilter.GetResultImage(), \"result_\"+filename)"
   ]
  },
  {
   "cell_type": "markdown",
   "id": "signal-injection",
   "metadata": {},
   "source": [
    "* the object-oriented interface facilitates reuse of components and dramatically simplifies book-keeping and boilerplate code\n",
    "* next section: closer look at the parameter map interface that configures the registration components"
   ]
  },
  {
   "cell_type": "code",
   "execution_count": null,
   "id": "funky-payday",
   "metadata": {},
   "outputs": [],
   "source": []
  }
 ],
 "metadata": {
  "kernelspec": {
   "display_name": "Python 3",
   "language": "python",
   "name": "python3"
  },
  "language_info": {
   "codemirror_mode": {
    "name": "ipython",
    "version": 3
   },
   "file_extension": ".py",
   "mimetype": "text/x-python",
   "name": "python",
   "nbconvert_exporter": "python",
   "pygments_lexer": "ipython3",
   "version": "3.9.0"
  }
 },
 "nbformat": 4,
 "nbformat_minor": 5
}
