{
 "cells": [
  {
   "cell_type": "markdown",
   "id": "expected-parks",
   "metadata": {},
   "source": [
    "## 1- introduction\n",
    "* image registration: process of **transforming images into a common coordinate system** so **corresponding pixels represent homologous biological points**\n",
    "* **Elastix**: open source **command-line program** for **intensity-based registration** of medical images, allows quickly configure, test and compare different registration methods\n",
    "* **SimpleElastix**: an **extension of SimpleITK**, allows configuring and **running Elastix entirely in Python** and some other languages\n",
    "* with SimpleElastix it's made easier and more memory and disk I/O efficient than Elastix"
   ]
  },
  {
   "cell_type": "markdown",
   "id": "alternate-crystal",
   "metadata": {},
   "source": [
    "* image registration involves two images: fixed and moving\n",
    "* transform: the spatial mapping of points from the fixed to points in moving (correspondence establishment)\n",
    "* similarity metric: measure of how well fixed and moving image match\n",
    "* optimizer: optimizes similarity metric over search space\n",
    "* serach space: parameters of transform\n",
    "\n",
    "\n",
    "* optimizer adjusts the parameters of transform in a way that minimizes the difference between the two images in terms of similarity metric\n",
    "* so we just need to specify the metric we want to optimize\n",
    "* when we want smooth deformations, we use regularization to penalize sharp transformation\n",
    "* when we start with a high level of smoothing, and gradually sharpen the image, we use a multi-resolution approach"
   ]
  },
  {
   "cell_type": "markdown",
   "id": "optimum-pontiac",
   "metadata": {},
   "source": [
    "### registration components\n",
    "#### image pyramids\n",
    "* a multi-resolution pyramid strategy improves the capture range and robustness of registration\n",
    "* three types of pyramid: SmoothingImagePyramid, RecursiveImagePyramid, ShrinkingImagePyramid\n",
    "* **SmoothingImagePyramid** smoothes the image with Gaussian kernel at different scales\n",
    "* **RecursiveImagePyramid** smoothes and downsamples the image\n",
    "* **ShrinkingImagePyramid** merely downsamples the image\n",
    "\n",
    "\n",
    "* parameters to set for multi-resolution strategy: **NumberOfResolutions** (in general 3 resolutions will be sufficient. if fixed and moving images are far away we migh want to increase it to 5 or 6, this way pays more attention to register large, dominant structures in the beginning) and **ImagePyramidSchedule**(defines amount of blurring and downsampling in each direction and for each resolution level) (if data is highly anisotropic, you might want to blur less in the direction of largest spacing).\n",
    "\n",
    "example:\n",
    "<br>(NumberOfResolutions 4)\n",
    "<br>(FixedImagePyramidSchedule 8 8 8 4 4 4 2 2 2 1 1 1)\n",
    "\n",
    "means that at resolution level 1, voxels are blurred with 4/2 voxels in each direction. (sigma is half pyramid schedule value)"
   ]
  },
  {
   "cell_type": "markdown",
   "id": "eligible-camel",
   "metadata": {},
   "source": [
    "#### masks\n",
    "* if more interested in aligning substructures than glonal anatomy\n",
    "* if you need an irregular region of interest (ROI), you can use masks\n",
    "* when to use masks:\n",
    "  * image contains artificial edges with no real meaning. the registration tries to align those and neglect the meaningful edges\n",
    "  * image contains structures in the neighborhood of your ROI that may influence the registration within ROI\n",
    "* only a fixed image mask is sufficient to focus the registrtion on the ROI, you only want to use mask for moving image, when the moving image contains highly perturbed grey levels near the ROI\n",
    "* if using multi-resolution registration, set (ErodeMask \"true\"), since you do not want information from the artificial edge to flow into your ROI during smoothing step, (if the edges around the ROI are meaningful, set it to false), becuase edge will help to guide the registration"
   ]
  },
  {
   "cell_type": "markdown",
   "id": "sonic-laugh",
   "metadata": {},
   "source": [
    "#### transforms\n",
    "* constrains the solution space to that type of deformation (example: intra-subject applications: may be sufficient to consider only rigid transformation) (example2: a cross-sectional study demands more flexible transformation models to allow normal anatomical variabilities between patients)\n",
    "* number of parameters correspond to the degree of freedom (DOF)\n",
    "* DOF is equal to the dimensionality of the search space\n",
    "* often good idea to start simple transforms and gradually increase complexity\n",
    "* some common transforms: \n",
    "  * translation\n",
    "  * rigid (rotation, translation)\n",
    "  * Euler (rotaiton, translation)\n",
    "  * affine (rotation, translation, scaling, shearing)\n",
    "  * bspline (non-rigid)\n",
    "  * Spline-Kernel transform (non-rigid)\n",
    "  * weighted combination of any of these\n",
    "* transform is from fixed image to moving image. this allows us to iterate over the fixed image and pick a pixel from the moving image for every pixel in the fixed image"
   ]
  },
  {
   "cell_type": "markdown",
   "id": "first-forge",
   "metadata": {},
   "source": [
    "#### metric\n"
   ]
  }
 ],
 "metadata": {
  "kernelspec": {
   "display_name": "Python 3",
   "language": "python",
   "name": "python3"
  },
  "language_info": {
   "codemirror_mode": {
    "name": "ipython",
    "version": 3
   },
   "file_extension": ".py",
   "mimetype": "text/x-python",
   "name": "python",
   "nbconvert_exporter": "python",
   "pygments_lexer": "ipython3",
   "version": "3.9.0"
  }
 },
 "nbformat": 4,
 "nbformat_minor": 5
}
