{
 "cells": [
  {
   "cell_type": "markdown",
   "id": "expected-parks",
   "metadata": {},
   "source": [
    "## 1- introduction\n",
    "* image registration: process of **transforming images into a common coordinate system** so **corresponding pixels represent homologous biological points**\n",
    "* **Elastix**: open source **command-line program** for **intensity-based registration** of medical images, allows quickly configure, test and compare different registration methods\n",
    "* **SimpleElastix**: an **extension of SimpleITK**, allows configuring and **running Elastix entirely in Python** and some other languages\n",
    "* with SimpleElastix it's made easier and more memory and disk I/O efficient than Elastix"
   ]
  },
  {
   "cell_type": "markdown",
   "id": "american-momentum",
   "metadata": {},
   "source": [
    "* image registration involves two images: fixed and moving\n",
    "* transform: the spatial mapping of points from the fixed to points in moving (correspondence establishment)\n",
    "* similarity metric: measure of how well fixed and moving image match\n",
    "* optimizer: optimizes similarity metric over search space\n",
    "* serach space: parameters of transform\n",
    "\n",
    "\n",
    "* optimizer adjusts the parameters of transform in a way that minimizes the difference between the two images in terms of similarity metric\n",
    "* so we just need to specify the metric we want to optimize\n",
    "* when we want smooth deformations, we use regularization to penalize sharp transformation\n",
    "* when we start with a high level of smoothing, and gradually sharpen the image, we use a multi-resolution approach"
   ]
  },
  {
   "cell_type": "markdown",
   "id": "bridal-realtor",
   "metadata": {},
   "source": [
    "### registration components\n",
    "#### image pyramids\n",
    "* a multi-resolution pyramid strategy improves the capture range and robustness of registration\n",
    "* three types of pyramid: SmoothingImagePyramid, RecursiveImagePyramid, ShrinkingImagePyramid\n",
    "* **SmoothingImagePyramid** smoothes the image with Gaussian kernel at different scales\n",
    "* **RecursiveImagePyramid** smoothes and downsamples the image\n",
    "* **ShrinkingImagePyramid** merely downsamples the image\n",
    "\n",
    "\n",
    "* parameters to set for multi-resolution strategy: **NumberOfResolutions** (in general 3 resolutions will be sufficient. if fixed and moving images are far away we migh want to increase it to 5 or 6, this way pays more attention to register large, dominant structures in the beginning) and **ImagePyramidSchedule**(defines amount of blurring and downsampling in each direction and for each resolution level) (if data is highly anisotropic, you might want to blur less in the direction of largest spacing).\n",
    "\n",
    "example:\n",
    "<br>(NumberOfResolutions 4)\n",
    "<br>(FixedImagePyramidSchedule 8 8 8 4 4 4 2 2 2 1 1 1)\n",
    "\n",
    "means that at resolution level 1, voxels are blurred with 4/2 voxels in each direction. (sigma is half pyramid schedule value)"
   ]
  },
  {
   "cell_type": "markdown",
   "id": "formal-television",
   "metadata": {},
   "source": [
    "#### masks\n",
    "* if more interested in aligning substructures than glonal anatomy\n",
    "* if you need an irregular region of interest (ROI), you can use masks\n",
    "* when to use masks:\n",
    "  * image contains artificial edges with no real meaning. the registration tries to align those and neglect the meaningful edges\n",
    "  * image contains structures in the neighborhood of your ROI that may influence the registration within ROI\n",
    "* only a fixed image mask is sufficient to focus the registrtion on the ROI, you only want to use mask for moving image, when the moving image contains highly perturbed grey levels near the ROI\n",
    "* if using multi-resolution registration, set (ErodeMask \"true\"), since you do not want information from the artificial edge to flow into your ROI during smoothing step, (if the edges around the ROI are meaningful, set it to false), becuase edge will help to guide the registration"
   ]
  },
  {
   "cell_type": "markdown",
   "id": "democratic-teaching",
   "metadata": {},
   "source": [
    "#### transforms\n",
    "* constrains the solution space to that type of deformation (example: intra-subject applications: may be sufficient to consider only rigid transformation) (example2: a cross-sectional study demands more flexible transformation models to allow normal anatomical variabilities between patients)\n",
    "* number of parameters correspond to the degree of freedom (DOF)\n",
    "* DOF is equal to the dimensionality of the search space\n",
    "* often good idea to start simple transforms and gradually increase complexity\n",
    "* some common transforms: \n",
    "  * translation\n",
    "  * rigid (rotation, translation)\n",
    "  * Euler (rotaiton, translation)\n",
    "  * affine (rotation, translation, scaling, shearing)\n",
    "  * bspline (non-rigid)\n",
    "  * Spline-Kernel transform (non-rigid)\n",
    "  * weighted combination of any of these\n",
    "* transform is from fixed image to moving image. this allows us to iterate over the fixed image and pick a pixel from the moving image for every pixel in the fixed image"
   ]
  },
  {
   "cell_type": "markdown",
   "id": "helpful-toilet",
   "metadata": {},
   "source": [
    "#### metric\n",
    "* similarity metric: measures degree of similarity between moving and fixed\n",
    "* metric samples intensity values from fixed and transformed moving and evaluates the fitness value and derivatives (to pass to optimizer)\n",
    "* some metrics can not handle inter-modality comparisons. some metrics have large capture range while others require initialization close to the optimil position\n",
    "* you might require trial and error to find the best metric for a given problem\n",
    "* **Mean Squared Difference (SSD)** pixel-wise intensity differences between two images squared mean. (good for the images with the same intensity distribution, like the same modality)\n",
    "* **Normalized Correlation Coefficient (NCC)** pixel-wise cross-correlation normalized by the square root of the autocorrelation of the images. it's invariant to linear differences between intensity distributions. well for intra-modal CT registration.\n",
    "* **Mutual Information (MI)** well-suited for multi-modal image pairs as well as mono-modal. sometimes better performance with normalized MI.\n",
    "* **Mattes Mutual Information** samples te same pixels in every iteration.\n",
    "* **Kappa Similarity Meric** measures the overlap of the segmented structures, specifically to register segmentations. (but usually better to conver a binary image to a distance map and apply one of the usual metrics."
   ]
  },
  {
   "cell_type": "markdown",
   "id": "desirable-specific",
   "metadata": {},
   "source": [
    "#### optimizers\n",
    "* estimates the optimal transform parameters in iterative fashion\n",
    "* Gradient Deccent (GD), Robbins-Mobroe (RM), **Adaptive stochastic gradient descent(ASGD)**, conjugate gradient (CG), Quasi-Newton, simultaneous pertubation (SP)"
   ]
  },
  {
   "cell_type": "markdown",
   "id": "loose-intro",
   "metadata": {},
   "source": [
    "#### samplers\n",
    "* samples some points for the metric to evaluate only a subset of randomly sampled voxels\n",
    "* using ImageSampler parameter (grid, random, random coordinate, full sampling)"
   ]
  },
  {
   "cell_type": "markdown",
   "id": "sporting-empty",
   "metadata": {},
   "source": [
    "#### interpolators\n",
    "* is required to evaluate the image intensity at the mapped off-grid position\n",
    "* NearestNeighborINterpolator: value of the spatially closest voxel. good for binary images\n",
    "* LinearInterpolator: weighted average of surrounding voxels. (best time performance with this together with random coordinate sampler during optimization)\n",
    "* BSplineInterpolatro: using b-spline approximations of user-defined order N. 1st order bspline correspond to linear interpolation. FinalBSplineInterpolatorFloat"
   ]
  },
  {
   "cell_type": "markdown",
   "id": "final-latvia",
   "metadata": {},
   "source": [
    "#### images\n",
    "* geometrical concepts associated with ITK images: ![Alt](images/se_001.JPG \"Title\")\n",
    "* pixels represent the center of pixels"
   ]
  },
  {
   "cell_type": "markdown",
   "id": "tight-quilt",
   "metadata": {},
   "source": [
    "## 2- Hello World\n",
    "* example ellustrating how to use SimpleElastix\n",
    "* keeping it simple for now: a single function call we can specify fixed, moving image and type of registration. SimpleElatix then registers our images using sensible default parameters"
   ]
  },
  {
   "cell_type": "markdown",
   "id": "integrated-bleeding",
   "metadata": {},
   "source": [
    "### Registration With Translation Transform\n",
    "consider these two brain MRIs.\n",
    "![Alt](images/se_002.JPG \"Title\")\n",
    "We identify objects are related by a simple spatial shift so a translation transform should suffice to align them (correct misalignment)"
   ]
  },
  {
   "cell_type": "markdown",
   "id": "useful-lawsuit",
   "metadata": {},
   "source": [
    "#### procedural interface\n",
    "* short-hand notation (procedural or functional interface)\n",
    "* less flexible than the object-oriented interface\n",
    "* very simple to use"
   ]
  },
  {
   "cell_type": "code",
   "execution_count": 9,
   "id": "express-maximum",
   "metadata": {},
   "outputs": [],
   "source": [
    "# a function to read dicom series from folders and returning the sitk image object\n",
    "\n",
    "def sitkReadDicom(dicom_dir):\n",
    "    \n",
    "    print(\"Reading Dicom directory:\", dicom_dir)\n",
    "    reader = sitk.ImageSeriesReader()\n",
    "    dicom_names = reader.GetGDCMSeriesFileNames(dicom_dir)\n",
    "    reader.SetFileNames(dicom_names)\n",
    "    image = reader.Execute()\n",
    "\n",
    "    size = image.GetSize()\n",
    "    print(\"Image size:\", size[0], size[1], size[2])\n",
    "    return image"
   ]
  },
  {
   "cell_type": "code",
   "execution_count": 6,
   "id": "developed-possession",
   "metadata": {},
   "outputs": [],
   "source": [
    "# a function to write a dicom series\n",
    "import SimpleITK as sitk\n",
    "import os, sys\n",
    "\n",
    "\n",
    "import time\n",
    "def sitkWriteDicom(filtered_image, outputDir):\n",
    "#     series_IDs = sitk.ImageSeriesReader.GetGDCMSeriesIDs(dicomDir)\n",
    "#     if not series_IDs:\n",
    "#         print(\"ERROR: given directory \\\"\"+data_directory+\"\\\" does not contain a DICOM series.\")\n",
    "#         sys.exit(1)\n",
    "#     series_file_names = sitk.ImageSeriesReader.GetGDCMSeriesFileNames(dicomDir, series_IDs[0])\n",
    "\n",
    "#     series_reader = sitk.ImageSeriesReader()\n",
    "#     series_reader.SetFileNames(series_file_names)\n",
    "\n",
    "    # Configure the reader to load all of the DICOM tags (public+private):\n",
    "    # By default tags are not loaded (saves time).\n",
    "    # By default if tags are loaded, the private tags are not loaded.\n",
    "    # We explicitly configure the reader to load tags, including the\n",
    "    # private ones.\n",
    "#     series_reader.MetaDataDictionaryArrayUpdateOn()\n",
    "#     series_reader.LoadPrivateTagsOn()\n",
    "#     image3D = series_reader.Execute()\n",
    "\n",
    "    # Write the 3D image as a series\n",
    "    # IMPORTANT: There are many DICOM tags that need to be updated when you modify an\n",
    "    #            original image. This is a delicate opration and requires knowlege of\n",
    "    #            the DICOM standard. This example only modifies some. For a more complete\n",
    "    #            list of tags that need to be modified see:\n",
    "    #                           http://gdcm.sourceforge.net/wiki/index.php/Writing_DICOM\n",
    "\n",
    "    writer = sitk.ImageFileWriter()\n",
    "    # Use the study/series/frame of reference information given in the meta-data\n",
    "    # dictionary and not the automatically generated information from the file IO\n",
    "    writer.KeepOriginalImageUIDOn()\n",
    "\n",
    "    # Copy relevant tags from the original meta-data dictionary (private tags are also\n",
    "    # accessible).\n",
    "#     tags_to_copy = [\"0010|0010\", # Patient Name\n",
    "#                     \"0010|0020\", # Patient ID\n",
    "#                     \"0010|0030\", # Patient Birth Date\n",
    "#                     \"0020|000D\", # Study Instance UID, for machine consumption\n",
    "#                     \"0020|0010\", # Study ID, for human consumption\n",
    "#                     \"0008|0020\", # Study Date\n",
    "#                     \"0008|0030\", # Study Time\n",
    "#                     \"0008|0050\", # Accession Number\n",
    "#                     \"0008|0060\"  # Modality\n",
    "#     ]\n",
    "\n",
    "    modification_time = time.strftime(\"%H%M%S\")\n",
    "    modification_date = time.strftime(\"%Y%m%d\")\n",
    "\n",
    "    # Copy some of the tags and add the relevant tags indicating the change.\n",
    "    # For the series instance UID (0020|000e), each of the components is a number, cannot start\n",
    "    # with zero, and separated by a '.' We create a unique series ID using the date and time.\n",
    "    # tags of interest:\n",
    "    direction = filtered_image.GetDirection()\n",
    "#[(k, series_reader.GetMetaData(0,k)) for k in tags_to_copy if series_reader.HasMetaDataKey(0,k)] + \\\n",
    "    series_tag_values = [(\"0008|0031\",modification_time), # Series Time\n",
    "                      (\"0008|0021\",modification_date), # Series Date\n",
    "                      (\"0008|0008\",\"DERIVED\\\\SECONDARY\"), # Image Type\n",
    "                      (\"0020|000e\", \"1.2.826.0.1.3680043.2.1125.\"+modification_date+\".1\"+modification_time), # Series Instance UID\n",
    "                      (\"0020|0037\", '\\\\'.join(map(str, (direction[0], direction[3], direction[6],# Image Orientation (Patient)\n",
    "                                                        direction[1],direction[4],direction[7]))))]#,\n",
    "                      #(\"0008|103e\", series_reader.GetMetaData(0,\"0008|103e\") + \" Processed-SimpleITK\") # Series Description\n",
    "\n",
    "    for i in range(filtered_image.GetDepth()):\n",
    "        image_slice = filtered_image[:,:,i]\n",
    "        # Tags shared by the series.\n",
    "        for tag, value in series_tag_values:\n",
    "            image_slice.SetMetaData(tag, value)\n",
    "        # Slice specific tags.\n",
    "        image_slice.SetMetaData(\"0008|0012\", time.strftime(\"%Y%m%d\")) # Instance Creation Date\n",
    "        image_slice.SetMetaData(\"0008|0013\", time.strftime(\"%H%M%S\")) # Instance Creation Time\n",
    "        image_slice.SetMetaData(\"0020|0032\", '\\\\'.join(map(str,filtered_image.TransformIndexToPhysicalPoint((0,0,i))))) # Image Position (Patient)\n",
    "        image_slice.SetMetaData(\"0020,0013\", str(i)) # Instance Number\n",
    "\n",
    "        # Write to the output directory and add the extension dcm, to force writing in DICOM format.\n",
    "        writer.SetFileName(os.path.join(sys.argv[2],str(i)+'.dcm'))\n",
    "        writer.Execute(image_slice)\n",
    "        print(f\"writing slice {i}\")\n",
    "    print(\"writing image done\")"
   ]
  },
  {
   "cell_type": "code",
   "execution_count": 44,
   "id": "printable-daniel",
   "metadata": {},
   "outputs": [],
   "source": [
    "def sitkWrite(image3D, data_directory=\"D:\\\\0-image_orig\", output_directory=\"D:\\\\1-image_copy\"):\n",
    "    # Read the original series. First obtain the series file names using the\n",
    "    # image series reader.\n",
    "    series_IDs = sitk.ImageSeriesReader.GetGDCMSeriesIDs(data_directory)\n",
    "    if not series_IDs:\n",
    "        print(\"ERROR: given directory \\\"\" + data_directory +\n",
    "              \"\\\" does not contain a DICOM series.\")\n",
    "        sys.exit(1)\n",
    "    series_file_names = sitk.ImageSeriesReader.GetGDCMSeriesFileNames(\n",
    "        data_directory, series_IDs[0])\n",
    "\n",
    "    series_reader = sitk.ImageSeriesReader()\n",
    "    series_reader.SetFileNames(series_file_names)\n",
    "\n",
    "    # Configure the reader to load all of the DICOM tags (public+private):\n",
    "    # By default tags are not loaded (saves time).\n",
    "    # By default if tags are loaded, the private tags are not loaded.\n",
    "    # We explicitly configure the reader to load tags, including the\n",
    "    # private ones.\n",
    "    series_reader.MetaDataDictionaryArrayUpdateOn()\n",
    "    series_reader.LoadPrivateTagsOn()\n",
    "    series_reader.Execute()\n",
    "\n",
    "    # Modify the image (blurring)\n",
    "    filtered_image = image3D\n",
    "\n",
    "    # Write the 3D image as a series\n",
    "    # IMPORTANT: There are many DICOM tags that need to be updated when you modify\n",
    "    #            an original image. This is a delicate opration and requires\n",
    "    #            knowledge of the DICOM standard. This example only modifies some.\n",
    "    #            For a more complete list of tags that need to be modified see:\n",
    "    #                http://gdcm.sourceforge.net/wiki/index.php/Writing_DICOM\n",
    "\n",
    "    writer = sitk.ImageFileWriter()\n",
    "    # Use the study/series/frame of reference information given in the meta-data\n",
    "    # dictionary and not the automatically generated information from the file IO\n",
    "    writer.KeepOriginalImageUIDOn()\n",
    "\n",
    "    # Copy relevant tags from the original meta-data dictionary (private tags are\n",
    "    # also accessible).\n",
    "    tags_to_copy = [\"0010|0010\",  # Patient Name\n",
    "                    \"0010|0020\",  # Patient ID\n",
    "                    \"0010|0030\",  # Patient Birth Date\n",
    "                    \"0020|000D\",  # Study Instance UID, for machine consumption\n",
    "                    \"0020|0010\",  # Study ID, for human consumption\n",
    "                    \"0008|0020\",  # Study Date\n",
    "                    \"0008|0030\",  # Study Time\n",
    "                    \"0008|0050\",  # Accession Number\n",
    "                    \"0008|0060\"  # Modality\n",
    "                    ]\n",
    "\n",
    "    modification_time = time.strftime(\"%H%M%S\")\n",
    "    modification_date = time.strftime(\"%Y%m%d\")\n",
    "\n",
    "    # Copy some of the tags and add the relevant tags indicating the change.\n",
    "    # For the series instance UID (0020|000e), each of the components is a number,\n",
    "    # cannot start with zero, and separated by a '.' We create a unique series ID\n",
    "    # using the date and time.\n",
    "    # Tags of interest:\n",
    "    direction = filtered_image.GetDirection()\n",
    "    series_tag_values = [\n",
    "                            (k, series_reader.GetMetaData(0, k))\n",
    "                            for k in tags_to_copy\n",
    "                            if series_reader.HasMetaDataKey(0, k)] + \\\n",
    "                        [(\"0008|0031\", modification_time),  # Series Time\n",
    "                         (\"0008|0021\", modification_date),  # Series Date\n",
    "                         (\"0008|0008\", \"DERIVED\\\\SECONDARY\"),  # Image Type\n",
    "                         (\"0020|000e\", \"1.2.826.0.1.3680043.2.1125.\" +\n",
    "                          modification_date + \".1\" + modification_time),\n",
    "                         # Series Instance UID\n",
    "                         (\"0020|0037\",\n",
    "                          '\\\\'.join(map(str, (direction[0], direction[3],\n",
    "                                              direction[6],\n",
    "                                              # Image Orientation (Patient)\n",
    "                                              direction[1], direction[4],\n",
    "                                              direction[7])))),\n",
    "                         (\"0008|103e\",\n",
    "                          series_reader.GetMetaData(0, \"0008|103e\")\n",
    "                          + \" Processed-SimpleITK\")]  # Series Description\n",
    "\n",
    "    castFilter = sitk.CastImageFilter()\n",
    "    castFilter.SetOutputPixelType(sitk.sitkUInt16)\n",
    "\n",
    "    # Convert floating type image (imgSmooth) to int type (imgFiltered)\n",
    "    filtered_image2 = castFilter.Execute(filtered_image)\n",
    "\n",
    "    for i in range(filtered_image2.GetDepth()):\n",
    "        image_slice = filtered_image2[:, :, i]\n",
    "        # Tags shared by the series.\n",
    "        for tag, value in series_tag_values:\n",
    "            image_slice.SetMetaData(tag, value)\n",
    "        # Slice specific tags.\n",
    "        #   Instance Creation Date\n",
    "        image_slice.SetMetaData(\"0008|0012\", time.strftime(\"%Y%m%d\"))\n",
    "        #   Instance Creation Time\n",
    "        image_slice.SetMetaData(\"0008|0013\", time.strftime(\"%H%M%S\"))\n",
    "        #   Image Position (Patient)\n",
    "        image_slice.SetMetaData(\"0020|0032\", '\\\\'.join(\n",
    "            map(str, filtered_image2.TransformIndexToPhysicalPoint((0, 0, i)))))\n",
    "        #   Instace Number\n",
    "        image_slice.SetMetaData(\"0020|0013\", str(i))\n",
    "        image_slice.SetMetaData(\"0020|000e\", \"1.2.826.0.1.3680043.2.1125.\"+modification_date+\".1\"+modification_time)\n",
    "\n",
    "        # Write to the output directory and add the extension dcm, to force writing\n",
    "        # in DICOM format.\n",
    "        writer.SetFileName(os.path.join(output_directory, str(i) + '.dcm'))\n",
    "        writer.Execute(image_slice)"
   ]
  },
  {
   "cell_type": "code",
   "execution_count": 7,
   "id": "alien-walnut",
   "metadata": {},
   "outputs": [],
   "source": [
    "fixedImage = \"D:\\\\TOFA\\\\images\\MR\\\\01-019\\\\20190926\\\\left_pre\"\n",
    "movingImage = \"D:\\\\TOFA\\\\images\\\\MR\\\\01-019\\\\20190926\\\\left_gd\""
   ]
  },
  {
   "cell_type": "code",
   "execution_count": 10,
   "id": "soviet-trinidad",
   "metadata": {},
   "outputs": [
    {
     "name": "stdout",
     "output_type": "stream",
     "text": [
      "Reading Dicom directory: D:\\TOFA\\images\\MR\\01-019\\20190926\\left_pre\n",
      "Image size: 400 400 180\n",
      "Reading Dicom directory: D:\\TOFA\\images\\MR\\01-019\\20190926\\left_gd\n",
      "Image size: 400 400 180\n"
     ]
    }
   ],
   "source": [
    "# procedural interface\n",
    "import SimpleITK as sitk\n",
    "\n",
    "resultImage = sitk.Elastix(sitkReadDicom(fixedImage), sitkReadDicom(movingImage), \"translation\")"
   ]
  },
  {
   "cell_type": "code",
   "execution_count": 14,
   "id": "cognitive-cherry",
   "metadata": {},
   "outputs": [
    {
     "name": "stdout",
     "output_type": "stream",
     "text": [
      "Reading Dicom directory: D:\\TOFA\\images\\MR\\01-019\\20190926\\left_pre\n",
      "Image size: 400 400 180\n",
      "Reading Dicom directory: D:\\TOFA\\images\\MR\\01-019\\20190926\\left_gd\n",
      "Image size: 400 400 180\n"
     ]
    }
   ],
   "source": [
    "import SimpleITK as sitk\n",
    "\n",
    "# Object oritented interface\n",
    "elastixImageFilter = sitk.ElastixImageFilter()\n",
    "elastixImageFilter.SetFixedImage(sitkReadDicom(fixedImage))\n",
    "elastixImageFilter.SetMovingImage(sitkReadDicom(movingImage))\n",
    "resultImage = elastixImageFilter.Execute()"
   ]
  },
  {
   "cell_type": "code",
   "execution_count": 46,
   "id": "written-fifteen",
   "metadata": {
    "scrolled": true
   },
   "outputs": [
    {
     "data": {
      "text/plain": [
       "<matplotlib.image.AxesImage at 0x1c708d4f6a0>"
      ]
     },
     "execution_count": 46,
     "metadata": {},
     "output_type": "execute_result"
    },
    {
     "data": {
      "image/png": "[encoded data removed]",
      "text/plain": [
       "<Figure size 432x288 with 1 Axes>"
      ]
     },
     "metadata": {
      "needs_background": "light"
     },
     "output_type": "display_data"
    }
   ],
   "source": [
    "import matplotlib.pyplot as plt\n",
    "\n",
    "nda = sitk.GetArrayFromImage(resultImage)[90, :, :]\n",
    "plt.imshow(nda, cmap='gray')"
   ]
  },
  {
   "cell_type": "code",
   "execution_count": 45,
   "id": "micro-allergy",
   "metadata": {},
   "outputs": [],
   "source": [
    "sitkWrite(image3D=resultImage, data_directory=fixedImage)"
   ]
  },
  {
   "cell_type": "markdown",
   "id": "british-fields",
   "metadata": {},
   "source": [
    "#### object-oriented interface\n",
    "* code is more flexible but less simple\n",
    "  * for example the final deformation field can be retrieved\n",
    "  (like warping other images with the same transformation)\n",
    "  * image quality is reduced from resampling twice the resulting image\n",
    "* suitable for more advanced use cases and scripting purposes\n",
    "* more verbose, but a lot more powerful"
   ]
  },
  {
   "cell_type": "code",
   "execution_count": null,
   "id": "valuable-playlist",
   "metadata": {},
   "outputs": [],
   "source": [
    "import SimpleITK as sitk\n",
    "\n",
    "fixedImage = sitk.ReadImage('fixedImage.nii')\n",
    "movingImage = sitk.ReadImage('movingImage.nii')\n",
    "parameterMap = sitk.GetDefaultParameterMap('translation')\n",
    "\n",
    "elastixImageFilter = sitk.ElastixImageFilter()\n",
    "elastixImageFilter.SetFixedImage(fixedImage)\n",
    "elastixImageFilter.SetMovingImage(movingImage)\n",
    "elastixImageFilter.SetParameterMap(parameterMap)\n",
    "elastixImageFilter.Execute()\n",
    "\n",
    "resultImage = elastixImageFilter.GetResultImage()\n",
    "transformParameterMap = elastixImageFilter.GetTransformParameterMap()"
   ]
  },
  {
   "cell_type": "markdown",
   "id": "pregnant-prescription",
   "metadata": {},
   "source": [
    "* we can now transform an entire population of images (e.g. binary label images for segmentation of different brain regions) using the same parameter map and a single instance of transformix"
   ]
  },
  {
   "cell_type": "code",
   "execution_count": null,
   "id": "fleet-joseph",
   "metadata": {},
   "outputs": [],
   "source": [
    "transformixImageFilter = sitk.TransformixImageFilter()\n",
    "transformixImageFilter.SetTransformParameterMap(transformParameterMap)\n",
    "\n",
    "population = ['image1.hdr', 'image2.hdr', ..., 'imageN.hdr']\n",
    "\n",
    "for filename in population:\n",
    "    transformixImageFilter.SetMovingImage(sitk.ReadImage(filename))\n",
    "    transformixImageFilter.Execute()\n",
    "    sitk.WriteImage(transformixImageFilter.GetResultImage(), \"result_\"+filename)"
   ]
  },
  {
   "cell_type": "markdown",
   "id": "maritime-gabriel",
   "metadata": {},
   "source": [
    "* the object-oriented interface facilitates reuse of components and dramatically simplifies book-keeping and boilerplate code\n",
    "* next section: closer look at the parameter map interface that configures the registration components"
   ]
  },
  {
   "cell_type": "markdown",
   "id": "nervous-aquarium",
   "metadata": {},
   "source": [
    "## 3- Parameter Maps\n",
    "* chapter 2, we saw configure an entire multi-resolution registration with a single parameter\n",
    "* examine how SimpleElastix configures registration components internally\n",
    "* will help solve complex problems that require problem-specific tuning\n",
    "* configure the registration procedure using the **concept of parameter map**\n",
    "* parameter map: collection of key-value pairs, automatically defines the componenets of registration and settings they require\n",
    "* elastix and transformix read text files in which parameters are specified according to the (key value) format\n",
    "* in SimpleElastix we can also use data objects for parameter files:"
   ]
  },
  {
   "cell_type": "code",
   "execution_count": null,
   "id": "colonial-intention",
   "metadata": {},
   "outputs": [],
   "source": [
    "import SimpleElastix as sitk\n",
    "\n",
    "p = sitk.ParameterMap()\n",
    "p['Registration'] = ['MultiResolutionRegistration']\n",
    "p['Transform'] = ['TranslationTransform']\n",
    "..."
   ]
  },
  {
   "cell_type": "markdown",
   "id": "musical-clone",
   "metadata": {},
   "source": [
    "### Default parameter maps\n"
   ]
  },
  {
   "cell_type": "code",
   "execution_count": null,
   "id": "imported-outline",
   "metadata": {},
   "outputs": [],
   "source": [
    "# ElastixImageFilter will register our images with a \n",
    "# translation -> affine -> b-splie multi-resolution approach by default\n",
    "# we simply leave out the call to SetParameterMap to achieve this\n",
    "\n",
    "import SimpleITK as sitk\n",
    "\n",
    "# Functional interface\n",
    "resultImage = sitk.Elastix(sitk.ReadImage('fixedImage.nii'), sitk.ReadImage('movingImage.nii'))\n",
    "\n",
    "# Object oritented interface\n",
    "elastixImageFilter = sitk.ElastixImageFilter()\n",
    "elastixImageFilter.SetFixedImage(sitk.ReadImage('fixedImage.nii'))\n",
    "elastixImageFilter.SetMovingImage(sitk.ReadImage('movingImage.nii'))\n",
    "resultImage = elastixImageFilter.Execute()"
   ]
  },
  {
   "cell_type": "code",
   "execution_count": 20,
   "id": "synthetic-mystery",
   "metadata": {},
   "outputs": [],
   "source": []
  },
  {
   "cell_type": "code",
   "execution_count": 17,
   "id": "sealed-numbers",
   "metadata": {},
   "outputs": [
    {
     "data": {
      "image/png": "[encoded data removed]",
      "text/plain": [
       "<Figure size 432x288 with 1 Axes>"
      ]
     },
     "metadata": {
      "needs_background": "light"
     },
     "output_type": "display_data"
    }
   ],
   "source": [
    "from matplotlib.pyplot import imshow\n",
    "nda = sitk.GetArrayFromImage(image)\n",
    "ax = imshow(nda[:,:, 200], cmap='gray')"
   ]
  },
  {
   "cell_type": "code",
   "execution_count": 18,
   "id": "contained-joshua",
   "metadata": {},
   "outputs": [
    {
     "data": {
      "text/plain": [
       "SimpleITK.SimpleITK.Image"
      ]
     },
     "execution_count": 18,
     "metadata": {},
     "output_type": "execute_result"
    }
   ],
   "source": [
    "type(image)"
   ]
  },
  {
   "cell_type": "code",
   "execution_count": null,
   "id": "governmental-terry",
   "metadata": {},
   "outputs": [],
   "source": []
  }
 ],
 "metadata": {
  "kernelspec": {
   "display_name": "Python 3",
   "language": "python",
   "name": "python3"
  },
  "language_info": {
   "codemirror_mode": {
    "name": "ipython",
    "version": 3
   },
   "file_extension": ".py",
   "mimetype": "text/x-python",
   "name": "python",
   "nbconvert_exporter": "python",
   "pygments_lexer": "ipython3",
   "version": "3.9.0"
  }
 },
 "nbformat": 4,
 "nbformat_minor": 5
}
